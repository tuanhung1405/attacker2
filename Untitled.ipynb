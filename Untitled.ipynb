{
 "cells": [
  {
   "cell_type": "code",
   "execution_count": 1,
   "id": "2acf5792",
   "metadata": {},
   "outputs": [],
   "source": [
    "import datetime as dt"
   ]
  },
  {
   "cell_type": "code",
   "execution_count": 3,
   "id": "7c0801f7",
   "metadata": {},
   "outputs": [],
   "source": [
    "current_month=dt.datetime.today()"
   ]
  },
  {
   "cell_type": "code",
   "execution_count": 5,
   "id": "0b54b7c6",
   "metadata": {},
   "outputs": [
    {
     "name": "stdout",
     "output_type": "stream",
     "text": [
      "2022-11-11 19:29:45.042793\n"
     ]
    }
   ],
   "source": [
    "print(current_month)"
   ]
  },
  {
   "cell_type": "code",
   "execution_count": 12,
   "id": "1876d89c",
   "metadata": {},
   "outputs": [],
   "source": [
    "current_month=dt.datetime.now().strftime('%B')"
   ]
  },
  {
   "cell_type": "code",
   "execution_count": 13,
   "id": "7bdb80ac",
   "metadata": {},
   "outputs": [
    {
     "data": {
      "text/plain": [
       "'November'"
      ]
     },
     "execution_count": 13,
     "metadata": {},
     "output_type": "execute_result"
    }
   ],
   "source": [
    "current_month"
   ]
  },
  {
   "cell_type": "code",
   "execution_count": 52,
   "id": "b99d6585",
   "metadata": {},
   "outputs": [
    {
     "ename": "TypeError",
     "evalue": "'year' is an invalid keyword argument for __new__()",
     "output_type": "error",
     "traceback": [
      "\u001b[1;31m---------------------------------------------------------------------------\u001b[0m",
      "\u001b[1;31mTypeError\u001b[0m                                 Traceback (most recent call last)",
      "\u001b[1;32m~\\AppData\\Local\\Temp/ipykernel_6040/3082581719.py\u001b[0m in \u001b[0;36m<module>\u001b[1;34m\u001b[0m\n\u001b[1;32m----> 1\u001b[1;33m \u001b[0mpre_month\u001b[0m\u001b[1;33m=\u001b[0m \u001b[1;33m(\u001b[0m\u001b[0mdt\u001b[0m\u001b[1;33m.\u001b[0m\u001b[0mdatetime\u001b[0m\u001b[1;33m.\u001b[0m\u001b[0mnow\u001b[0m\u001b[1;33m(\u001b[0m\u001b[1;33m)\u001b[0m\u001b[1;33m-\u001b[0m\u001b[0mdt\u001b[0m\u001b[1;33m.\u001b[0m\u001b[0mtimedelta\u001b[0m\u001b[1;33m(\u001b[0m\u001b[0myear\u001b[0m\u001b[1;33m=\u001b[0m\u001b[1;32mFalse\u001b[0m\u001b[1;33m,\u001b[0m\u001b[0mmonth\u001b[0m\u001b[1;33m=\u001b[0m\u001b[1;36m1\u001b[0m\u001b[1;33m,\u001b[0m\u001b[0mday\u001b[0m\u001b[1;33m=\u001b[0m\u001b[1;32mFalse\u001b[0m\u001b[1;33m)\u001b[0m\u001b[1;33m)\u001b[0m\u001b[1;33m.\u001b[0m\u001b[0mstrftime\u001b[0m\u001b[1;33m(\u001b[0m\u001b[1;34m'%B'\u001b[0m\u001b[1;33m)\u001b[0m\u001b[1;33m\u001b[0m\u001b[1;33m\u001b[0m\u001b[0m\n\u001b[0m",
      "\u001b[1;31mTypeError\u001b[0m: 'year' is an invalid keyword argument for __new__()"
     ]
    }
   ],
   "source": [
    "pre_month= (dt.datetime.now()-dt.timedelta(year=False,month=1,day=False)).strftime('%B')"
   ]
  },
  {
   "cell_type": "code",
   "execution_count": 51,
   "id": "674f4e93",
   "metadata": {},
   "outputs": [
    {
     "name": "stdout",
     "output_type": "stream",
     "text": [
      "October\n"
     ]
    }
   ],
   "source": [
    "print(pre_month)"
   ]
  },
  {
   "cell_type": "code",
   "execution_count": 63,
   "id": "127738c2",
   "metadata": {},
   "outputs": [],
   "source": [
    "n=0\n",
    "Dynamic_months={}\n",
    "current_month=dt.datetime.now()\n",
    "while n < 6:\n",
    "    month=current_month.strftime('%B')\n",
    "    Dynamic_months['m{0}'.format(n)]=month\n",
    "    current_month=current_month-dt.timedelta(days=27)\n",
    "    n=n+1"
   ]
  },
  {
   "cell_type": "code",
   "execution_count": 62,
   "id": "8b3ca105",
   "metadata": {},
   "outputs": [
    {
     "data": {
      "text/plain": [
       "{'m0': 'November',\n",
       " 'm1': 'October',\n",
       " 'm2': 'September',\n",
       " 'm3': 'August',\n",
       " 'm4': 'July',\n",
       " 'm5': 'June'}"
      ]
     },
     "execution_count": 62,
     "metadata": {},
     "output_type": "execute_result"
    }
   ],
   "source": [
    "Dynamic_months"
   ]
  },
  {
   "cell_type": "code",
   "execution_count": null,
   "id": "978bbfb1",
   "metadata": {},
   "outputs": [],
   "source": []
  }
 ],
 "metadata": {
  "kernelspec": {
   "display_name": "Python 3 (ipykernel)",
   "language": "python",
   "name": "python3"
  },
  "language_info": {
   "codemirror_mode": {
    "name": "ipython",
    "version": 3
   },
   "file_extension": ".py",
   "mimetype": "text/x-python",
   "name": "python",
   "nbconvert_exporter": "python",
   "pygments_lexer": "ipython3",
   "version": "3.9.6"
  }
 },
 "nbformat": 4,
 "nbformat_minor": 5
}
